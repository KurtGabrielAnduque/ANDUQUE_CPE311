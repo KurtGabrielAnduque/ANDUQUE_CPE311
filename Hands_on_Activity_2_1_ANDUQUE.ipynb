{
  "nbformat": 4,
  "nbformat_minor": 0,
  "metadata": {
    "colab": {
      "provenance": []
    },
    "kernelspec": {
      "name": "python3",
      "display_name": "Python 3"
    },
    "language_info": {
      "name": "python"
    }
  },
  "cells": [
    {
      "cell_type": "markdown",
      "source": [
        "<b>Recursion Method</b>"
      ],
      "metadata": {
        "id": "ydNmTxR4tSbA"
      }
    },
    {
      "cell_type": "code",
      "source": [
        "def tower_hanoi(disks, fromm, to, using, sticks):\n",
        "    if disks == 0:\n",
        "        return  # terminate yung recursion pag 0 na yung disks\n",
        "\n",
        "    # recursion para ma move yung largest size sa destination\n",
        "    tower_hanoi(disks - 1, fromm, using, to, sticks)\n",
        "\n",
        "    #update yung list about sa movement ng mga disks\n",
        "    disk = sticks[fromm].pop()  # dito reremove yung disk kung saang stick galing\n",
        "    sticks[to].append(disk)  # dito idadagdag yung disk sa target stick\n",
        "\n",
        "    # print yung movement\n",
        "    print('\\n')\n",
        "    print(f\"Move disk {disk} from stick {fromm} to stick {to}\")\n",
        "    print(f\"Stick A: {sticks['A']}\")\n",
        "    print(f\"Stick B: {sticks['B']}\")\n",
        "    print(f\"Stick C: {sticks['C']}\")\n",
        "\n",
        "    # recursion para ma move yung disks from auxiliary to destination stick\n",
        "    tower_hanoi(disks - 1, using, to, fromm, sticks)\n",
        "\n",
        "\n",
        "disks = 3\n",
        "\n",
        "sticks = {\n",
        "    \"A\": list(range(disks, 0, -1)),  # arrange yung disk from largest to smallet size eto (source)\n",
        "    \"B\": [],\n",
        "    \"C\": []\n",
        "}\n",
        "\n",
        "\n",
        "tower_hanoi(disks, \"A\", \"C\", \"B\", sticks)\n",
        "\n"
      ],
      "metadata": {
        "colab": {
          "base_uri": "https://localhost:8080/"
        },
        "id": "hJuoscAQjJii",
        "outputId": "a6744489-405f-475d-8a37-dd8c975fa50f"
      },
      "execution_count": null,
      "outputs": [
        {
          "output_type": "stream",
          "name": "stdout",
          "text": [
            "\n",
            "\n",
            "Move disk 1 from stick A to stick C\n",
            "Stick A: [3, 2]\n",
            "Stick B: []\n",
            "Stick C: [1]\n",
            "\n",
            "\n",
            "Move disk 2 from stick A to stick B\n",
            "Stick A: [3]\n",
            "Stick B: [2]\n",
            "Stick C: [1]\n",
            "\n",
            "\n",
            "Move disk 1 from stick C to stick B\n",
            "Stick A: [3]\n",
            "Stick B: [2, 1]\n",
            "Stick C: []\n",
            "\n",
            "\n",
            "Move disk 3 from stick A to stick C\n",
            "Stick A: []\n",
            "Stick B: [2, 1]\n",
            "Stick C: [3]\n",
            "\n",
            "\n",
            "Move disk 1 from stick B to stick A\n",
            "Stick A: [1]\n",
            "Stick B: [2]\n",
            "Stick C: [3]\n",
            "\n",
            "\n",
            "Move disk 2 from stick B to stick C\n",
            "Stick A: [1]\n",
            "Stick B: []\n",
            "Stick C: [3, 2]\n",
            "\n",
            "\n",
            "Move disk 1 from stick A to stick C\n",
            "Stick A: []\n",
            "Stick B: []\n",
            "Stick C: [3, 2, 1]\n"
          ]
        }
      ]
    },
    {
      "cell_type": "markdown",
      "source": [
        "<b>Observation</b>\n",
        "- By implementing a recursive function to the tower of Hanoi correctly it is able to work properly by moving the n - 1 disk to the auxiliary stick or stick b, then transferring the largest disk to the destination or stick C, and lastly transferring the n - 1 disk to destination after moving the largest to destination stick. This method was able to perform solution while following the given rule wherein we cant put largest disk to small ones."
      ],
      "metadata": {
        "id": "PKDGlhvKth1X"
      }
    },
    {
      "cell_type": "markdown",
      "source": [
        "<b>For loop method</b>"
      ],
      "metadata": {
        "id": "xLJLzDGutHIR"
      }
    },
    {
      "cell_type": "code",
      "source": [
        "def tower_hanoi_iterative(disks):\n",
        "    sticks = {\n",
        "        \"A\": list(range(disks, 0, -1)),  # Starting stick (source) largest to smallest\n",
        "        \"B\": [],\n",
        "        \"C\": []   # target (destination)\n",
        "    }\n",
        "\n",
        "    total_moves = 2 ** disks - 1  # Number of moves required following the formula\n",
        "    source, destination, auxiliary = \"A\", \"C\", \"B\" #\n",
        "\n",
        "    # yung bilang ng disks is even swap yung aux sa destination\n",
        "    if disks % 2 == 0:\n",
        "        destination, auxiliary = auxiliary, destination\n",
        "\n",
        "    moves = []  # Stack simulation\n",
        "\n",
        "    for i in range(1, total_moves + 1):\n",
        "        if i % 3 == 1:  # Move between source and destination\n",
        "            moves.append((source, destination))\n",
        "        elif i % 3 == 2:  # Move between source and aux\n",
        "            moves.append((source, auxiliary))\n",
        "        elif i % 3 == 0:  # Move between aux and destination\n",
        "            moves.append((auxiliary, destination))\n",
        "\n",
        "    for move in moves:\n",
        "        fromm, to = move\n",
        "\n",
        "        # set ng condition na dapat smaller disks yung nasa taas\n",
        "        if sticks[fromm] and (not sticks[to] or sticks[fromm][-1] < sticks[to][-1]):\n",
        "            disk = sticks[fromm].pop()\n",
        "            sticks[to].append(disk)\n",
        "        else: # if di na meet yung condition reverse yung move\n",
        "            disk = sticks[to].pop()\n",
        "            sticks[fromm].append(disk)\n",
        "\n",
        "        print('\\n')\n",
        "        print(f\"Move disk {disk} from stick {fromm} to stick {to}\")\n",
        "        print(f\"Stick A: {sticks['A']}\")\n",
        "        print(f\"Stick B: {sticks['B']}\")\n",
        "        print(f\"Stick C: {sticks['C']}\")\n",
        "\n",
        "\n",
        "tower_hanoi_iterative(3)"
      ],
      "metadata": {
        "colab": {
          "base_uri": "https://localhost:8080/"
        },
        "id": "gxqVZZgYjMbB",
        "outputId": "418b15d1-6b5f-42e2-b6ca-a267a465064f"
      },
      "execution_count": null,
      "outputs": [
        {
          "output_type": "stream",
          "name": "stdout",
          "text": [
            "\n",
            "\n",
            "Move disk 1 from stick A to stick C\n",
            "Stick A: [3, 2]\n",
            "Stick B: []\n",
            "Stick C: [1]\n",
            "\n",
            "\n",
            "Move disk 2 from stick A to stick B\n",
            "Stick A: [3]\n",
            "Stick B: [2]\n",
            "Stick C: [1]\n",
            "\n",
            "\n",
            "Move disk 1 from stick B to stick C\n",
            "Stick A: [3]\n",
            "Stick B: [2, 1]\n",
            "Stick C: []\n",
            "\n",
            "\n",
            "Move disk 3 from stick A to stick C\n",
            "Stick A: []\n",
            "Stick B: [2, 1]\n",
            "Stick C: [3]\n",
            "\n",
            "\n",
            "Move disk 1 from stick A to stick B\n",
            "Stick A: [1]\n",
            "Stick B: [2]\n",
            "Stick C: [3]\n",
            "\n",
            "\n",
            "Move disk 2 from stick B to stick C\n",
            "Stick A: [1]\n",
            "Stick B: []\n",
            "Stick C: [3, 2]\n",
            "\n",
            "\n",
            "Move disk 1 from stick A to stick C\n",
            "Stick A: []\n",
            "Stick B: []\n",
            "Stick C: [3, 2, 1]\n"
          ]
        }
      ]
    },
    {
      "cell_type": "markdown",
      "source": [
        "<b>Observation</b>\n",
        "- By implementing a iteration method to the tower of hanoi correctly it is able to work properly, by checking first in the number of disk to set a pattern of movement wherein if the number of disk odd it moves between source(StickA) and destination(StickC) if the number of disk is even it moves between source(StickA) and aux(StickB). Lastly is to set a condition that will follow the rules wherein we cannot place a largest disk to smaller ones.\n",
        "\n",
        "\n",
        "\n"
      ],
      "metadata": {
        "id": "2LVssGZctoJw"
      }
    },
    {
      "cell_type": "markdown",
      "source": [
        "<b>Conclusion</b>\n",
        "\n",
        "- After conducting this hands on activity, I conclude that for the Recursion approach in dealing with the puzzle of tower of hanoi is the one that is easier to understand due to the fact that it follows the natural problem solving steps. On the otherhand, the iteration approach the usage of for loops is faster compared to recursion however the implementation of these are complex compared to the recursion."
      ],
      "metadata": {
        "id": "qr9b3gT7tsyi"
      }
    }
  ]
}