{
 "cells": [
  {
   "cell_type": "code",
   "execution_count": null,
   "id": "673779bc-1587-4e93-8515-b0478670b3bb",
   "metadata": {},
   "outputs": [],
   "source": [
    "'''\n",
    "Given a sequence of n real numbers A(1) ... A(n), determine a contiguous subsequence A(i) ... A(j) for which the sum of elements in the subsequence is maximized.\n",
    "'''"
   ]
  },
  {
   "cell_type": "code",
   "execution_count": 39,
   "id": "6638f82a-a4eb-4bc1-a0f2-9d6712801c32",
   "metadata": {},
   "outputs": [
    {
     "name": "stdout",
     "output_type": "stream",
     "text": [
      "[]\n"
     ]
    }
   ],
   "source": [
    "def maximize_sum(G,N):\n",
    "    result = []\n",
    "    sub_list = []\n",
    "    counter = 0\n",
    "    \n",
    "    for i in range(len(G)):\n",
    "        \n",
    "        if counter == N - 1:\n",
    "            counter = 0\n",
    "            result.append(sub_list)\n",
    "            sub_list.clear()\n",
    "\n",
    "        sub_list.append(G[i])\n",
    "\n",
    "        \n",
    "        \n",
    "        \n",
    "    return result\n",
    "\n",
    "given_sequence = [98,78,61,50,90,30]\n",
    "number_of_contigous = 2\n",
    "\n",
    "print(maximize_sum(given_sequence,number_of_contigous))"
   ]
  },
  {
   "cell_type": "code",
   "execution_count": 42,
   "id": "624a91be-fba9-4918-9a91-9c4cb9788d71",
   "metadata": {},
   "outputs": [
    {
     "ename": "TypeError",
     "evalue": "'>' not supported between instances of 'int' and 'NoneType'",
     "output_type": "error",
     "traceback": [
      "\u001b[1;31m---------------------------------------------------------------------------\u001b[0m",
      "\u001b[1;31mTypeError\u001b[0m                                 Traceback (most recent call last)",
      "Cell \u001b[1;32mIn[42], line 19\u001b[0m\n\u001b[0;32m     16\u001b[0m dikit \u001b[38;5;241m=\u001b[39m \u001b[38;5;241m3\u001b[39m\n\u001b[0;32m     17\u001b[0m n \u001b[38;5;241m=\u001b[39m \u001b[38;5;28mlen\u001b[39m(given_sequence)\n\u001b[1;32m---> 19\u001b[0m \u001b[38;5;28mprint\u001b[39m(maximize_sum(given_sequence,dikit,n))\n",
      "Cell \u001b[1;32mIn[42], line 11\u001b[0m, in \u001b[0;36mmaximize_sum\u001b[1;34m(G, N, n)\u001b[0m\n\u001b[0;32m      8\u001b[0m \u001b[38;5;28;01mfor\u001b[39;00m i \u001b[38;5;129;01min\u001b[39;00m \u001b[38;5;28mrange\u001b[39m(\u001b[38;5;241m2\u001b[39m, \u001b[38;5;28mlen\u001b[39m(G)):\n\u001b[0;32m      9\u001b[0m     table\u001b[38;5;241m.\u001b[39mappend(G[i \u001b[38;5;241m-\u001b[39m \u001b[38;5;241m1\u001b[39m])\n\u001b[1;32m---> 11\u001b[0m \u001b[38;5;28;01mreturn\u001b[39;00m \u001b[38;5;28mmax\u001b[39m(table)\n",
      "\u001b[1;31mTypeError\u001b[0m: '>' not supported between instances of 'int' and 'NoneType'"
     ]
    }
   ],
   "source": [
    "def maximize_sum(G,N,n):\n",
    "    \n",
    "    table = [None]\n",
    "    \n",
    "    if table is None:\n",
    "        table.append(G[0])\n",
    "\n",
    "    for i in range(2, len(G)):\n",
    "        table.append(G[i - 1])\n",
    "\n",
    "    return max(table)\n",
    "\n",
    "\n",
    "\n",
    "given_sequence = [98,78,61,50,90,30]\n",
    "dikit = 3\n",
    "n = len(given_sequence)\n",
    "\n",
    "print(maximize_sum(given_sequence,dikit,n))\n",
    "\n",
    "\n",
    "\n",
    "\n",
    "\n"
   ]
  },
  {
   "cell_type": "code",
   "execution_count": null,
   "id": "85f86660-a36c-4932-9220-091835c08380",
   "metadata": {},
   "outputs": [],
   "source": [
    "def maximize_sum(G,N):\n",
    "    \n",
    "    \n",
    "\n",
    "    \n",
    "\n",
    "\n",
    "given_sequence = [98,78,61,50,90,30]\n",
    "dikit = 3\n",
    "print(maximize_sum(given_sequence,dikit))"
   ]
  }
 ],
 "metadata": {
  "kernelspec": {
   "display_name": "Python 3 (ipykernel)",
   "language": "python",
   "name": "python3"
  },
  "language_info": {
   "codemirror_mode": {
    "name": "ipython",
    "version": 3
   },
   "file_extension": ".py",
   "mimetype": "text/x-python",
   "name": "python",
   "nbconvert_exporter": "python",
   "pygments_lexer": "ipython3",
   "version": "3.12.4"
  }
 },
 "nbformat": 4,
 "nbformat_minor": 5
}
